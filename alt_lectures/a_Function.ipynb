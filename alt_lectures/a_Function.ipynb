{
 "cells": [
  {
   "cell_type": "markdown",
   "metadata": {},
   "source": [
    "# Lecture \n",
    "_variables, if-else, console I/O, defining and calling functions, default-args, keyword arg, flex-args, doc-comments for functions, annotating function type_"
   ]
  },
  {
   "cell_type": "markdown",
   "metadata": {},
   "source": [
    "## Example 1\n",
    "A _variable_ is used to store data so that you can use it later. Data stored in a variable can be read, as well as updated."
   ]
  },
  {
   "cell_type": "code",
   "execution_count": null,
   "metadata": {},
   "outputs": [],
   "source": [
    "name = \"Sandy\"\n",
    "age = 22\n",
    "print(\"=================\")\n",
    "if(age < 18):\n",
    "    print(\"Hey \" + name) \n",
    "else:\n",
    "    print(\"Hello \" + name)   \n",
    "    print(\"Welcome in the Python course.\") \n",
    "print(\"=================\")"
   ]
  },
  {
   "cell_type": "markdown",
   "metadata": {},
   "source": [
    "## Example 2: Simple Input and Output\n",
    "With `print(s)` you can print a text-string to the 'Console', and with `input()` you can let the user types a line of text-string from the Console and have the string read into your program.  "
   ]
  },
  {
   "cell_type": "code",
   "execution_count": null,
   "metadata": {},
   "outputs": [],
   "source": [
    "name = input(\"Tell me your name.\")\n",
    "age = input(\"How old are you \" + name + \"?\")\n",
    "# age = input(f\"How old are you {name} ?\")\n",
    "print(\"=================\")\n",
    "print(f\"Citizen {name}\")\n",
    "print(f\"Born in {2022 - age} ({age} years)\") # error here :)\n",
    "print(\"=================\")"
   ]
  },
  {
   "cell_type": "markdown",
   "metadata": {},
   "source": [
    "## Example 3: Functions\n",
    "With a _function_ you can define a program that you can use/call multiple times later. A function can have one or more _parameters_ (also called _arguments_), so that you can write a program whose calculation adjusts according to the value of the parameters."
   ]
  },
  {
   "cell_type": "code",
   "execution_count": null,
   "metadata": {},
   "outputs": [],
   "source": [
    "def average(x,y,z):\n",
    "    sum = x + y + z\n",
    "    av = sum/3\n",
    "    return av\n",
    "\n",
    "print(f\"average of 0,2,4 is {average(0,2,4)}\") "
   ]
  },
  {
   "cell_type": "markdown",
   "metadata": {},
   "source": [
    "#### Adding comments to your code\n",
    "You can add _comments_ into your program, usually to give some textual explanation of your code. Comments do not influence the behavior of the program. With comments you can also document the intent of your programs. Documenting is a recommended practice in the industry.\n",
    "\n",
    "Use `#` to start a line of comment in the program, as in `# this is a comment`.\n",
    "\n",
    "Below I also give an example of a comment that documents a function using so-called _Docstrings_ using a special `\"\"\"` format. You can do `help(function-name)` from within Python to print the documentation of a function, like shown at the bottom of the code below.\n",
    "\n",
    "More: https://realpython.com/documenting-python-code/"
   ]
  },
  {
   "cell_type": "code",
   "execution_count": 8,
   "metadata": {},
   "outputs": [
    {
     "name": "stdout",
     "output_type": "stream",
     "text": [
      "average of 0,2,4 is 2.0\n",
      "==============\n",
      "Help on function average in module __main__:\n",
      "\n",
      "average(x, y, z)\n",
      "    Calculate average\n",
      "    \n",
      "    This function calculates the average of three numbers.\n",
      "\n"
     ]
    }
   ],
   "source": [
    "def average(x,y,z):\n",
    "    \"\"\" Calculate average\n",
    "\n",
    "    This function calculates the average of three numbers.\n",
    "    \"\"\"\n",
    "    \n",
    "    # fist calculate the sum\n",
    "    # then divide by n:\n",
    "    sum = x + y + z\n",
    "    av = sum/3\n",
    "    return av\n",
    "\n",
    "# just an example:\n",
    "print(f\"average of 0,2,4 is {average(0,2,4)}\")   \n",
    "print(\"==============\")\n",
    "help(average)  "
   ]
  },
  {
   "cell_type": "markdown",
   "metadata": {},
   "source": [
    "#### Default argument"
   ]
  },
  {
   "cell_type": "code",
   "execution_count": 7,
   "metadata": {},
   "outputs": [
    {
     "name": "stdout",
     "output_type": "stream",
     "text": [
      "3rd day of the week is Wednesday\n",
      "8th day of the week is not a day!\n",
      "1st day of the week is Monday\n"
     ]
    }
   ],
   "source": [
    "def nameOfDay(d = 1):\n",
    "    \"\"\" Return the name of the day.\n",
    "    \n",
    "    This function takes a number representing a day in a week, and\n",
    "    return the name of the day.\n",
    "\n",
    "    Parameters\n",
    "    -------\n",
    "    d : int, default is 1\n",
    "       A number indicating the order of a day in the week. E.g. 1 is for\n",
    "       Monday, 2 is Tuesday, and so on.\n",
    "       It should be a number between 1 and 7.\n",
    "    \"\"\"\n",
    "\n",
    "    days = [\"Monday\", \"Tuesday\", \"Wednesday\", \"Thursday\", \"Friday\", \"Saturday\", \"Sunday\"]\n",
    "    if (d<1 or d>7):\n",
    "        return \"not a day!\"\n",
    "    else:\n",
    "        index = d - 1\n",
    "        dayName = days[index] \n",
    "        return dayName\n",
    "\n",
    "print(f\"3rd day of the week is {nameOfDay(3)}\")   \n",
    "print(f\"8th day of the week is {nameOfDay(8)}\")   \n",
    "print(f\"1st day of the week is {nameOfDay()}\")   # notice no d is passed"
   ]
  },
  {
   "cell_type": "markdown",
   "metadata": {},
   "source": [
    "#### Keyword arguments"
   ]
  },
  {
   "cell_type": "code",
   "execution_count": 4,
   "metadata": {},
   "outputs": [
    {
     "name": "stdout",
     "output_type": "stream",
     "text": [
      "31/January/2022\n",
      "31/January/2022\n"
     ]
    }
   ],
   "source": [
    "def formatDate(dayInMonth,month,year):\n",
    "    \"\"\"This function return a formatted date\"\"\"\n",
    "    if(year<100):\n",
    "        year = year + 2000\n",
    "    formattedDate = (f\"{dayInMonth}/{month}/{year}\")\n",
    "    return formattedDate\n",
    "\n",
    "print(formatDate(31,\"January\",2022))\n",
    "print(formatDate(year=22,dayInMonth=31,month=\"January\"))"
   ]
  },
  {
   "cell_type": "markdown",
   "metadata": {},
   "source": [
    "#### Function with an arbitrary number of arguments"
   ]
  },
  {
   "cell_type": "code",
   "execution_count": 1,
   "metadata": {},
   "outputs": [
    {
     "name": "stdout",
     "output_type": "stream",
     "text": [
      "sum is: 55\n",
      "Average of 1,2...10 is: 5.5\n"
     ]
    }
   ],
   "source": [
    "def average(x, *theRest):\n",
    "    \"\"\" Calculate average.\n",
    "    This function calculate the average of its arguments. \n",
    "    \n",
    "    It can take any number of arguments, but it should be at least one.\n",
    "    \"\"\"\n",
    "    sum = x \n",
    "    n = len(theRest)\n",
    "    index = 0\n",
    "    while(index<n):\n",
    "        sum = sum + theRest[index]\n",
    "        index = index+1\n",
    "    print(f\"sum is: {sum}\")    \n",
    "    av = sum/(n+1)\n",
    "    return av\n",
    "\n",
    "print(f\"Average of 1,2...10 is: {average(1,2,3,4,5,6,7,8,9,10)}\")    "
   ]
  },
  {
   "cell_type": "markdown",
   "metadata": {},
   "source": [
    "#### Annotating types when defining a function\n",
    "\n",
    "To improve the documentation of a function, you can add _type hints_ in the function header. In the example below, hover your mouse in the calls to `formatDate` at the bottom of the example. Add `help(formatDate)` at the bottom of the snippet below to see how the type-hint now also appears in the function's documentation.\n",
    "\n",
    "**CAUTION:** as it is now, Python does not check if type hints are respected! They are just means to help documentation."
   ]
  },
  {
   "cell_type": "code",
   "execution_count": 9,
   "metadata": {},
   "outputs": [
    {
     "name": "stdout",
     "output_type": "stream",
     "text": [
      "31/December/2022\n",
      "31/12/2022\n",
      "==========\n",
      "Help on function formatDate in module __main__:\n",
      "\n",
      "formatDate(dayInMonth: str, month: int, year: int) -> str\n",
      "    This function return a formatted date\n",
      "\n"
     ]
    }
   ],
   "source": [
    "def formatDate(dayInMonth:str, month:int, year:int) -> str :\n",
    "    \"\"\"This function return a formatted date\"\"\"\n",
    "    if(year<100):\n",
    "        year = year + 2000\n",
    "    formattedDate = (f\"{dayInMonth}/{month}/{year}\")\n",
    "    return formattedDate\n",
    "\n",
    "print(formatDate(year=22,dayInMonth=31,month=\"December\"))\n",
    "print(formatDate(year=22,dayInMonth=31,month=12))  # violating the type-hint of month  \n",
    "print(\"==========\")\n",
    "help(formatDate)"
   ]
  }
 ],
 "metadata": {
  "interpreter": {
   "hash": "aee8b7b246df8f9039afb4144a1f6fd8d2ca17a180786b69acc140d282b71a49"
  },
  "kernelspec": {
   "display_name": "Python 3 (ipykernel)",
   "language": "python",
   "name": "python3"
  },
  "language_info": {
   "codemirror_mode": {
    "name": "ipython",
    "version": 3
   },
   "file_extension": ".py",
   "mimetype": "text/x-python",
   "name": "python",
   "nbconvert_exporter": "python",
   "pygments_lexer": "ipython3",
   "version": "3.9.13"
  }
 },
 "nbformat": 4,
 "nbformat_minor": 2
}
